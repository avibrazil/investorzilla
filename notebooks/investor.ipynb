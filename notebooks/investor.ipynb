{
 "cells": [
  {
   "cell_type": "markdown",
   "id": "e133912d-9972-457f-9f07-b710e8bf3c0e",
   "metadata": {},
   "source": [
    "# Ivestment Porfolio Management\n",
    "\n",
    "## Load investments and print short report"
   ]
  },
  {
   "cell_type": "code",
   "execution_count": null,
   "id": "b765ee32-8ebe-4dd9-a4f3-2f3fbcb4a35c",
   "metadata": {
    "tags": []
   },
   "outputs": [],
   "source": [
    "import sys\n",
    "import os\n",
    "import logging\n",
    "import pandas\n",
    "import numpy\n",
    "\n",
    "logging.basicConfig()\n",
    "logging.getLogger().setLevel(logging.DEBUG)\n",
    "\n",
    "# Give priority to local packages (not needed in case Robson was installed by pip)\n",
    "sys.path.insert(0, os.path.abspath(os.path.join(os.path.dirname(''), '..')))\n",
    "\n",
    "import investorzilla"
   ]
  },
  {
   "cell_type": "code",
   "execution_count": null,
   "id": "70b199e5-7db8-4710-a1b0-e339a8d9db0d",
   "metadata": {
    "scrolled": true,
    "tags": []
   },
   "outputs": [],
   "source": [
    "# Use data from cache\n",
    "me=investorzilla.Investor(\"path/to/investorzilla.yaml\")\n",
    "\n",
    "# # Pass a refreshMap to force refresh data from the Internet or local data sources\n",
    "# refresh=dict(\n",
    "#     portfolio=True,\n",
    "#     benchmarks=False,\n",
    "#     currency_converters=False\n",
    "# )\n",
    "\n",
    "# me=investorzilla.Investor(\n",
    "#     \"../investor_ui_config.yaml\",\n",
    "#     refreshMap=refresh #dict(zip(investorzilla.investor.domains,len(investorzilla.investor.domains)*[True]))\n",
    "# )"
   ]
  },
  {
   "cell_type": "code",
   "execution_count": null,
   "id": "ee8444cd-072d-484d-8021-2c509a7f2f15",
   "metadata": {
    "scrolled": true,
    "tags": []
   },
   "outputs": [],
   "source": [
    "me.config"
   ]
  },
  {
   "cell_type": "code",
   "execution_count": null,
   "id": "7eddbfe1-5b71-4f1d-ae94-10aca326fac1",
   "metadata": {
    "tags": []
   },
   "outputs": [],
   "source": [
    "for b in me.benchmarks:\n",
    "    display(b['obj'])\n",
    "    # display(b['obj'].data.head(4))"
   ]
  },
  {
   "cell_type": "code",
   "execution_count": null,
   "id": "5030e198-9587-463f-96e2-074c708b6366",
   "metadata": {
    "tags": []
   },
   "outputs": [],
   "source": [
    "me.benchmarks[5]['obj']"
   ]
  },
  {
   "cell_type": "markdown",
   "id": "c2e14ca6-e730-4556-b48a-cd93a3de023e",
   "metadata": {
    "tags": []
   },
   "source": [
    "## Get list of investment instruments and currencies"
   ]
  },
  {
   "cell_type": "code",
   "execution_count": null,
   "id": "e45149c3-3577-43bd-b444-d741e825bfc4",
   "metadata": {
    "tags": []
   },
   "outputs": [],
   "source": [
    "me.portfolio.funds()"
   ]
  },
  {
   "cell_type": "markdown",
   "id": "428119f6-b1eb-4f20-8d3e-4a0bebee8171",
   "metadata": {
    "tags": []
   },
   "source": [
    "## Get compound fund from a few instruments"
   ]
  },
  {
   "cell_type": "code",
   "execution_count": null,
   "id": "2c820e65-dcfd-484f-beba-596668586584",
   "metadata": {
    "tags": []
   },
   "outputs": [],
   "source": [
    "me.exchange.currency='BRL'"
   ]
  },
  {
   "cell_type": "code",
   "execution_count": null,
   "id": "731503e9-cef4-481d-8d68-659bb1f015c5",
   "metadata": {
    "tags": []
   },
   "outputs": [],
   "source": [
    "# funds=['TraderBot KuCoin']\n",
    "funds=[]"
   ]
  },
  {
   "cell_type": "code",
   "execution_count": null,
   "id": "e1091ba7-a4b7-4236-b52c-4f7068dbdbe1",
   "metadata": {
    "tags": []
   },
   "outputs": [],
   "source": [
    "# fund=me.portfolio.getFund(currencyExchange=me.exchange)\n",
    "fund=me.portfolio.getFund(funds,currencyExchange=me.exchange)\n",
    "fund"
   ]
  },
  {
   "cell_type": "code",
   "execution_count": null,
   "id": "efd3cdb2-3df0-44de-96a6-63fce7ebb783",
   "metadata": {
    "tags": []
   },
   "outputs": [],
   "source": [
    "fund.setName(top=3)"
   ]
  },
  {
   "cell_type": "markdown",
   "id": "0bc2de0e-3307-497b-a35a-a5e0382f7652",
   "metadata": {},
   "source": [
    "## Get current Balance of all instruments"
   ]
  },
  {
   "cell_type": "code",
   "execution_count": null,
   "id": "71c01785-496e-4653-954d-d14a7dedbc18",
   "metadata": {
    "scrolled": true,
    "tags": []
   },
   "outputs": [],
   "source": [
    "contrib=0.8\n",
    "\n",
    "currentBalance=fund.balance.groupby(level=0).last()\n",
    "currentBalance\n",
    "\n",
    "currentBalance.columns=currentBalance.columns.droplevel()\n",
    "\n",
    "(\n",
    "    currentBalance\n",
    "    .sort_values(\n",
    "        fund.exchange.target,\n",
    "        ascending=False\n",
    "    )\n",
    "    .assign(\n",
    "        cum=lambda table: table[fund.exchange.target].cumsum()\n",
    "    )\n",
    "    .style.format(\n",
    "        {\n",
    "            me.exchange.currency: \"${:,.2f}\",\n",
    "            \"cum\": \"${:,.2f}\",\n",
    "        }\n",
    "    )\n",
    "\n",
    "    # .query(\"cum<{}\".format(currentBalance[me.exchange.target].sum()*contrib))\n",
    "    # .index\n",
    ")"
   ]
  },
  {
   "cell_type": "markdown",
   "id": "ea14ad5f-2511-4351-848a-40155ebb8b90",
   "metadata": {},
   "source": [
    "### Current Balance of only the top 70% of Portfolio"
   ]
  },
  {
   "cell_type": "code",
   "execution_count": null,
   "id": "6acdd089-b6c3-4930-bdd2-770838a6fb46",
   "metadata": {
    "tags": []
   },
   "outputs": [],
   "source": [
    "qcut=0.7\n",
    "\n",
    "(\n",
    "    currentBalance\n",
    "    .sort_values(me.exchange.target,ascending=False)\n",
    "    .assign(\n",
    "        cum=currentBalance[me.exchange.target].cumsum()\n",
    "    )\n",
    "    .query(\"cum<{}\".format(currentBalance[me.exchange.target].sum()*qcut))\n",
    "    .style.format(\n",
    "        {\n",
    "            me.exchange.currency: \"${:,.2f}\",\n",
    "            \"cum\": \"${:,.2f}\",\n",
    "        }\n",
    "    )\n",
    ")"
   ]
  },
  {
   "cell_type": "markdown",
   "id": "bbde9416-b50f-4147-a7b7-075831feb3d2",
   "metadata": {
    "tags": []
   },
   "source": [
    "### Current Balance of top 3 instruments"
   ]
  },
  {
   "cell_type": "code",
   "execution_count": null,
   "id": "c13d052a-7d4d-4fba-8a85-82b7ee282f8a",
   "metadata": {
    "tags": []
   },
   "outputs": [],
   "source": [
    "top=3\n",
    "\n",
    "(\n",
    "    currentBalance\n",
    "    .sort_values(me.exchange.target,ascending=False)\n",
    "    .head(top)\n",
    "    [[me.exchange.target]]\n",
    "    .style.format(\n",
    "        {\n",
    "            me.exchange.currency: \"${:,.2f}\",\n",
    "            \"cum\": \"${:,.2f}\",\n",
    "        }\n",
    "    )\n",
    ")"
   ]
  },
  {
   "cell_type": "markdown",
   "id": "2e0e0f5f-8d80-4e31-8728-82085fce6a97",
   "metadata": {
    "tags": []
   },
   "source": [
    "## Compute periodic report\n",
    "\n",
    "`Fund` class methods `report()` and `periodicReport()` compute all KPIs based on only 3 sources of data:\n",
    "\n",
    "- Balance\n",
    "- Ledger\n",
    "- Benchmark (optional)\n",
    "\n",
    "`periodicReport()` might get a [Pandas' period alias](https://pandas.pydata.org/docs/user_guide/timeseries.html#timeseries-period-aliases) to return a regular monotonic time series. If not passed, the time series returned is ragged and has as many data points as the original data.\n",
    "\n",
    "`report()` must get a period pair (defaults to \"month & year\") so it can acoplate the `periodicReport`s of the short term (month) and long term (year) periods. [Tested and supported period pairs are defined in `Fund.periodPairs`](https://github.com/avibrazil/investorzilla/blob/b9cd73dcefc8ecd79cb7d8c402f0fd1f3b5f88c1/investorzilla/fund.py#L54) and go from very high frequency as \"hour of the day\" to very long term views as \"year & decade\".\n",
    "\n",
    "Pass a list to `kpi` parameter to show only specific KPIs. Avaialble are:\n",
    "\n",
    "**Source of all information**\n",
    "* `investorzilla.KPI.BALANCE`\\\n",
    "plain balance\n",
    "* `investorzilla.KPI.MOVEMENTS`\\\n",
    "money added and removed from fund on period\n",
    "\n",
    "**Cumulative movements**\n",
    "* `investorzilla.KPI.SAVINGS`\\\n",
    "cumulative money added and removed from fund\n",
    "\n",
    "**Rate of accumulated gains**\n",
    "* `investorzilla.KPI.BALANCE_OVER_SAVINGS`\\\n",
    "balance ➗ savings\n",
    "\n",
    "**Pure gain, on the period or accumulated**\n",
    "* `investorzilla.KPI.GAINS`\\\n",
    "cumulative gains\n",
    "* `investorzilla.KPI.PERIOD_GAIN`\\\n",
    "gain on each period\n",
    "\n",
    "**Normalization**\n",
    "* `investorzilla.KPI.SHARES`\\\n",
    "amount of shares\n",
    "* `investorzilla.KPI.SHARE_VALUE`\\\n",
    "value of a share\n",
    "\n",
    "**Performance**\n",
    "* `investorzilla.KPI.RATE_RETURN`\\\n",
    "percentage change of share value\n",
    "\n",
    "**KPIs related to external sources**\n",
    "* `investorzilla.KPI.BENCHMARK`\\\n",
    "raw value of the benchmark\n",
    "* `investorzilla.KPI.BENCHMARK_RATE_RETURN`\\\n",
    "variation of benchmark in relation to the last period\n",
    "* `investorzilla.KPI.BENCHMARK_EXCESS_RETURN`\\\n",
    "relation between RATE_RETURN and BENCHMARK_RATE_RETURN, on each period\n",
    "\n",
    "### Month and Year"
   ]
  },
  {
   "cell_type": "code",
   "execution_count": null,
   "id": "5aa15251-f0cd-4a18-ba28-f2ebc294d50e",
   "metadata": {
    "tags": []
   },
   "outputs": [],
   "source": [
    "fund.periodicReport('M')"
   ]
  },
  {
   "cell_type": "code",
   "execution_count": null,
   "id": "86b61cdf-6574-4973-a03a-f01c33ac0fcc",
   "metadata": {
    "tags": []
   },
   "outputs": [],
   "source": [
    "fund.periodicReport('Y')"
   ]
  },
  {
   "cell_type": "code",
   "execution_count": null,
   "id": "e74fd2dc-5de8-4d63-a335-d72630f91d6f",
   "metadata": {},
   "outputs": [],
   "source": [
    "import IPython\n",
    "import numpy"
   ]
  },
  {
   "cell_type": "code",
   "execution_count": null,
   "id": "ee758f66-9f90-4c38-a3df-fe1276a8736e",
   "metadata": {
    "tags": []
   },
   "outputs": [],
   "source": [
    "r=fund.report(benchmark=me.benchmarks[8]['obj'])\n",
    "\n",
    "IPython.display.HTML(\n",
    "    r\n",
    "    .apply(lambda cell: numpy.where(cell<0,\"color: red\",None), axis=1)\n",
    "    .set_table_styles([\n",
    "        dict(selector=\"td\", props=\"font-size: 0.8em; text-align: right\"),\n",
    "        dict(selector=\"tr\", props=\"line-height: inherit; padding: 0;\")\n",
    "    ])\n",
    "    # .applymap(lambda value,props: value<0, props='color:red;')\n",
    "    .to_html()\n",
    ")"
   ]
  },
  {
   "cell_type": "markdown",
   "id": "76f561cb-db90-41ce-b553-1601155db956",
   "metadata": {},
   "source": [
    "### Daily"
   ]
  },
  {
   "cell_type": "code",
   "execution_count": null,
   "id": "02c7e91e-4fae-4777-8afa-612b54052202",
   "metadata": {
    "tags": []
   },
   "outputs": [],
   "source": [
    "fund.report('day & week',benchmark=me.benchmarks[2]['obj'], output='flat')"
   ]
  },
  {
   "cell_type": "markdown",
   "id": "80f36339-f455-4275-aa55-6b1e36494dee",
   "metadata": {
    "execution": {
     "iopub.execute_input": "2022-07-08T15:46:45.700130Z",
     "iopub.status.busy": "2022-07-08T15:46:45.698906Z",
     "iopub.status.idle": "2022-07-08T15:46:45.715087Z",
     "shell.execute_reply": "2022-07-08T15:46:45.714134Z",
     "shell.execute_reply.started": "2022-07-08T15:46:45.700057Z"
    },
    "tags": []
   },
   "source": [
    "#### Plain daily gains"
   ]
  },
  {
   "cell_type": "code",
   "execution_count": null,
   "id": "8e9fa090-1c27-4aa0-b70d-0f751684153d",
   "metadata": {
    "tags": []
   },
   "outputs": [],
   "source": [
    "me.benchmarks[8]"
   ]
  },
  {
   "cell_type": "code",
   "execution_count": null,
   "id": "4a281775-6202-426a-8ca5-624f856852d4",
   "metadata": {
    "tags": []
   },
   "outputs": [],
   "source": [
    "fund.report('day & week',benchmark=me.benchmarks[8]['obj'],kpi=[investorzilla.KPI.RATE_RETURN,investorzilla.KPI.BALANCE_OVER_SAVINGS,investorzilla.KPI.BENCHMARK,investorzilla.KPI.BENCHMARK_RATE_RETURN])"
   ]
  },
  {
   "cell_type": "code",
   "execution_count": null,
   "id": "dc0e82db-b343-49e1-8c51-774194f9284d",
   "metadata": {
    "tags": []
   },
   "outputs": [],
   "source": [
    "fund.report('day & week',benchmark=me.benchmarks[2]['obj'],kpi=[investorzilla.KPI.PERIOD_GAIN,investorzilla.KPI.GAINS,investorzilla.KPI.RATE_RETURN,investorzilla.KPI.BALANCE_OVER_SAVINGS])"
   ]
  },
  {
   "cell_type": "code",
   "execution_count": null,
   "id": "7819ebf9-267b-43c8-8487-606c7b5559de",
   "metadata": {
    "tags": []
   },
   "outputs": [],
   "source": [
    "fund.periodicReport('M',benchmark=me.benchmarks[8]['obj'])"
   ]
  },
  {
   "cell_type": "markdown",
   "id": "0da030e5-c4eb-4c3c-9db4-d9d7079068bd",
   "metadata": {},
   "source": [
    "### Week & 4 Weeks\n",
    "#### Performance report"
   ]
  },
  {
   "cell_type": "code",
   "execution_count": null,
   "id": "fa6c298a-53c8-4417-9f44-20c21fdb6442",
   "metadata": {
    "tags": []
   },
   "outputs": [],
   "source": [
    "# fund=me.portfolio[0]['obj'].getFund(['ShiguBot Binance','ShiguBot MB'],currencyExchange=me.exchange)\n",
    "fund=me.portfolio.getFund(['TraderBot KuCoin'],currencyExchange=me.exchange)\n",
    "\n",
    "fund.report(\n",
    "    period='week & 4 weeks',\n",
    "    benchmark=me.benchmarks[8]['obj'],\n",
    "    kpi=[\n",
    "        investorzilla.KPI.RATE_RETURN,\n",
    "        investorzilla.KPI.BENCHMARK_RATE_RETURN,\n",
    "        investorzilla.KPI.BENCHMARK_EXCESS_RETURN,\n",
    "        investorzilla.KPI.PERIOD_GAIN\n",
    "    ],\n",
    ")"
   ]
  },
  {
   "cell_type": "markdown",
   "id": "ebb2b1bb-a639-4bde-97d3-aab570834643",
   "metadata": {},
   "source": [
    "#### Wealth Evolution"
   ]
  },
  {
   "cell_type": "code",
   "execution_count": null,
   "id": "1fa21a47-d709-41ac-9aa7-b29d56adad82",
   "metadata": {
    "tags": []
   },
   "outputs": [],
   "source": [
    "fund.report(\n",
    "    period='week & 4 weeks',\n",
    "    benchmark=me.benchmarks[9]['obj'],\n",
    "    kpi=[\n",
    "        investorzilla.KPI.BALANCE,\n",
    "        investorzilla.KPI.BALANCE_OVER_SAVINGS,\n",
    "        investorzilla.KPI.GAINS,\n",
    "        investorzilla.KPI.SAVINGS,\n",
    "        investorzilla.KPI.MOVEMENTS\n",
    "    ],\n",
    ")"
   ]
  },
  {
   "cell_type": "markdown",
   "id": "40b792aa-6f40-4788-b36c-054299f77ac9",
   "metadata": {
    "execution": {
     "iopub.execute_input": "2022-07-08T15:46:45.700130Z",
     "iopub.status.busy": "2022-07-08T15:46:45.698906Z",
     "iopub.status.idle": "2022-07-08T15:46:45.715087Z",
     "shell.execute_reply": "2022-07-08T15:46:45.714134Z",
     "shell.execute_reply.started": "2022-07-08T15:46:45.700057Z"
    },
    "tags": []
   },
   "source": [
    "#### Plain weekly gains"
   ]
  },
  {
   "cell_type": "code",
   "execution_count": null,
   "id": "e5453b93-7c52-4a6d-a003-daddbe45ad4a",
   "metadata": {
    "tags": []
   },
   "outputs": [],
   "source": [
    "fund.report('week & 4 weeks',benchmark=me.benchmarks[9]['obj'],kpi=[investorzilla.KPI.PERIOD_GAIN])"
   ]
  },
  {
   "cell_type": "markdown",
   "id": "3c3bf05b-a4ab-437a-b427-f42b723b139c",
   "metadata": {},
   "source": [
    "#### Plain Periodic Report with exquisite periods"
   ]
  },
  {
   "cell_type": "code",
   "execution_count": null,
   "id": "46953d57-d981-41b6-8771-b9180a61ce13",
   "metadata": {
    "tags": []
   },
   "outputs": [],
   "source": [
    "pandas.concat([l], axis=1, keys=[fund.periodicReport('3M').index[0]])"
   ]
  },
  {
   "cell_type": "markdown",
   "id": "22cdf16c-8a99-4fd0-8da6-f9d423815a64",
   "metadata": {},
   "source": [
    "----"
   ]
  }
 ],
 "metadata": {
  "instance_type": "ml.t3.medium",
  "kernelspec": {
   "display_name": "Python 3 (ipykernel)",
   "language": "python",
   "name": "python3"
  },
  "language_info": {
   "codemirror_mode": {
    "name": "ipython",
    "version": 3
   },
   "file_extension": ".py",
   "mimetype": "text/x-python",
   "name": "python",
   "nbconvert_exporter": "python",
   "pygments_lexer": "ipython3",
   "version": "3.11.7"
  }
 },
 "nbformat": 4,
 "nbformat_minor": 5
}
